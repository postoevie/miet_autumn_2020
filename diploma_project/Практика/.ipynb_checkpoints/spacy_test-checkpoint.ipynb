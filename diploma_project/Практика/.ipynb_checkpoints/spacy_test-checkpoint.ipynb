{
 "cells": [
  {
   "cell_type": "code",
   "execution_count": 60,
   "metadata": {},
   "outputs": [
    {
     "name": "stdout",
     "output_type": "stream",
     "text": [
      "+-----------------+-------------+\n",
      "| Text            | Label       |\n",
      "+-----------------+-------------+\n",
      "| John            | PERSON      |\n",
      "+-----------------+-------------+\n",
      "| Apple           | ORG         |\n",
      "+-----------------+-------------+\n",
      "| April 2007      | DATE        |\n",
      "+-----------------+-------------+\n",
      "| English         | LANGUAGE    |\n",
      "+-----------------+-------------+\n",
      "| George Orwell's | PERSON      |\n",
      "+-----------------+-------------+\n",
      "| Animal Farm     | WORK_OF_ART |\n",
      "+-----------------+-------------+\n",
      "| 80%             | PERCENT     |\n",
      "+-----------------+-------------+\n"
     ]
    }
   ],
   "source": [
    "import spacy\n",
    "import en_core_web_sm\n",
    "from  texttable import Texttable\n",
    "nlp = en_core_web_sm.load()\n",
    "doc = nlp(\"\"\"\n",
    "John works in Apple company since April 2007. He created an apple car. His native language is English. \n",
    "He likes to read books like George Orwell's \"Animal Farm. He completes it by 80%.\n",
    "\n",
    "          \"\"\")\n",
    "\n",
    "tabletoken = Texttable()\n",
    "tabletoken.add_row(['Surface', 'Lemma', 'POS', 'Dependency'])\n",
    "for token in doc:\n",
    "    tabletoken.add_row([token.text, token.lemma_, token.pos_, token.dep_])\n",
    "    \n",
    "tableChunks = Texttable()\n",
    "for chunk in doc.noun_chunks:\n",
    "    tableChunks.add_row([chunk.text, chunk.root.text, chunk.root.dep_])\n",
    "#print(tabletoken.draw())\n",
    "#spacy.displacy.serve(doc, style='dep')\n",
    "\n",
    "tableEntities = Texttable()\n",
    "tableEntities.add_row(['Text', 'Label'])\n",
    "for ent in doc.ents:\n",
    "    tableEntities.add_row([ent.text, ent.label_])\n",
    "#print(tableEntities.draw())\n",
    "\n",
    "\n",
    "\n",
    "\n"
   ]
  },
  {
   "cell_type": "code",
   "execution_count": null,
   "metadata": {},
   "outputs": [],
   "source": []
  }
 ],
 "metadata": {
  "kernelspec": {
   "display_name": "Python 3",
   "language": "python",
   "name": "python3"
  },
  "language_info": {
   "codemirror_mode": {
    "name": "ipython",
    "version": 3
   },
   "file_extension": ".py",
   "mimetype": "text/x-python",
   "name": "python",
   "nbconvert_exporter": "python",
   "pygments_lexer": "ipython3",
   "version": "3.7.7"
  }
 },
 "nbformat": 4,
 "nbformat_minor": 4
}
