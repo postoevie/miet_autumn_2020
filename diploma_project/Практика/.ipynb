{
 "cells": [
  {
   "cell_type": "code",
   "execution_count": 83,
   "metadata": {},
   "outputs": [
    {
     "name": "stdout",
     "output_type": "stream",
     "text": [
      "Before []\n",
      "After [('Margaret', 'PERSON')]\n"
     ]
    }
   ],
   "source": [
    "import spacy\n",
    "import en_core_web_sm\n",
    "from  texttable import Texttable\n",
    "from spacy.tokens import Span\n",
    "\n",
    "nlp = en_core_web_sm.load()\n",
    "doc = nlp(\"\"\"\n",
    "John works in Apple company since April 2007. He created an apple car. His native language is English. \n",
    "He likes to read books like George Orwell's \"Animal Farm. He completes it by 80%.\n",
    "This book  costed 10$\n",
    "          \"\"\")\n",
    "\n",
    "#Show tokens\n",
    "tabletoken = Texttable()\n",
    "tabletoken.add_row(['number', 'Surface', 'Lemma', 'POS', 'Dependency'])\n",
    "i = 0\n",
    "for token in doc:\n",
    "    tabletoken.add_row([i , token.text, token.lemma_, token.pos_, token.dep_])\n",
    "    i = i + 1\n",
    "#print(tabletoken.draw()) \n",
    "\n",
    "#navigating parse tree\n",
    "#visualizing dependencies\n",
    "#spacy.displacy.serve(doc, style='dep')\n",
    "\n",
    "#Show chunks \n",
    "tableChunks = Texttable()\n",
    "for chunk in doc.noun_chunks:\n",
    "    tableChunks.add_row([chunk.text, chunk.root.text, chunk.root.dep_])\n",
    "#print(tableChunks.draw())\n",
    "\n",
    "\n",
    "#Show entities\n",
    "tableEntities = Texttable()\n",
    "tableEntities.add_row(['Text', 'Label'])\n",
    "for ent in doc.ents:\n",
    "    tableEntities.add_row([ent.text, ent.label_])\n",
    "\n",
    "#Show IOB of enitity\n",
    "ent_fname = [doc[29].text, doc[29].ent_iob_, doc[29].ent_type_]\n",
    "ent_sname = [doc[30].text, doc[30].ent_iob_, doc[30].ent_type_]\n",
    "#print(ent_fname)\n",
    "#print(ent_sname)\n",
    "\n",
    "#setting entity annotations\n",
    "doc = nlp('Margaret like to save money')\n",
    "ents = [(ent.text, ent.label) for ent in doc.ents]\n",
    "print('Before', ents)\n",
    "\n",
    "marg_ent = Span(doc, 0, 1, label=\"PERSON\")\n",
    "doc.ents = list(doc.ents) + [marg_ent]\n",
    "\n",
    "ents = [(ent.text, ent.label_) for ent in doc.ents]\n",
    "print('After', ents)\n",
    "\n",
    "#also we can set annotations from array and cyton\n",
    "\n",
    "\n",
    "\n"
   ]
  },
  {
   "cell_type": "code",
   "execution_count": null,
   "metadata": {},
   "outputs": [],
   "source": []
  }
 ],
 "metadata": {
  "kernelspec": {
   "display_name": "Python 3",
   "language": "python",
   "name": "python3"
  },
  "language_info": {
   "codemirror_mode": {
    "name": "ipython",
    "version": 3
   },
   "file_extension": ".py",
   "mimetype": "text/x-python",
   "name": "python",
   "nbconvert_exporter": "python",
   "pygments_lexer": "ipython3",
   "version": "3.7.7"
  }
 },
 "nbformat": 4,
 "nbformat_minor": 4
}
